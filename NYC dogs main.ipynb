{
 "cells": [
  {
   "cell_type": "code",
   "execution_count": 1,
   "id": "568c9035-b0a8-46d1-b359-636f58695465",
   "metadata": {},
   "outputs": [],
   "source": [
    "import numpy as np\n",
    "import pandas as pd\n",
    "import re\n",
    "import requests\n",
    "from collections import Counter\n",
    "import dogfunctions as dd\n",
    "import matplotlib as mpl\n",
    "import matplotlib.pyplot as plt\n",
    "import seaborn as sns\n",
    "import seaborn.objects as so"
   ]
  },
  {
   "cell_type": "code",
   "execution_count": null,
   "id": "38972f6b-598c-491e-acdb-0429ca04f794",
   "metadata": {},
   "outputs": [],
   "source": [
    "pd.set_option('display.max_rows', None)\n",
    "pd.set_option('display.max_columns', None)"
   ]
  },
  {
   "cell_type": "code",
   "execution_count": null,
   "id": "6f302c6d-2e72-40f1-921b-5a9876732116",
   "metadata": {},
   "outputs": [],
   "source": [
    "url = \"https://raw.github.com/katyakraft/project_1/main/NYC_Dog_Licensing_Dataset_20240923.csv\""
   ]
  },
  {
   "cell_type": "code",
   "execution_count": null,
   "id": "a57f808d-88df-4be3-8c3d-91127c951d9a",
   "metadata": {},
   "outputs": [],
   "source": [
    "\n",
    "df = pd.read_csv(url)"
   ]
  },
  {
   "cell_type": "code",
   "execution_count": null,
   "id": "0b8c30f0-b83a-4cf7-ac29-a9cc4e92dc1a",
   "metadata": {},
   "outputs": [],
   "source": [
    "#Cleaning column names\n",
    "df.columns = [col.replace(\" \",\"_\").lower() for col in df.columns]\n"
   ]
  },
  {
   "cell_type": "code",
   "execution_count": null,
   "id": "fe1d5a1b-3bbf-4efd-aefd-050ca17eaec9",
   "metadata": {},
   "outputs": [],
   "source": [
    "#Dropping invalid names\n",
    "names_to_drop = [\"UNKNOWN\", \"NAME NOT PROVIDED\"]\n",
    "\n",
    "df_cleaned = df[~df['animalname'].isin(names_to_drop)]\n"
   ]
  },
  {
   "cell_type": "code",
   "execution_count": null,
   "id": "75bbd86d-6ca3-4e28-baa0-fa5a95b89f8f",
   "metadata": {},
   "outputs": [],
   "source": [
    "#Lowercase names\n",
    "df_lowercase = df_cleaned.map(lambda s: s.lower() if type(s) == str else s)\n",
    "df_lowercase[\"animalname\"] = df_lowercase[\"animalname\"].str.capitalize()\n"
   ]
  },
  {
   "cell_type": "code",
   "execution_count": null,
   "id": "d862c16b-8026-4499-9d06-a1f18202fb9a",
   "metadata": {},
   "outputs": [],
   "source": [
    "#Dropping duplicates\n",
    "df_no_duplicates = df_lowercase.drop_duplicates()\n"
   ]
  },
  {
   "cell_type": "code",
   "execution_count": null,
   "id": "25281f38-bfd0-420d-9591-76b5d7a5bd85",
   "metadata": {},
   "outputs": [],
   "source": [
    "#Calculate name lenghts\n",
    "df_no_duplicates['namelength'] = df_no_duplicates['animalname'].apply(lambda name: len(name)if pd.notnull(name) else 0)"
   ]
  },
  {
   "cell_type": "code",
   "execution_count": null,
   "id": "a0205e2f-9015-44a1-9d70-7404fb547f33",
   "metadata": {},
   "outputs": [],
   "source": [
    "#Dropping unused columns\n",
    "new_df = df_no_duplicates.drop([\"licenseexpireddate\",\"licenseissueddate\", \"extract_year\"], axis=1)\n"
   ]
  },
  {
   "cell_type": "code",
   "execution_count": null,
   "id": "4747889d-29c5-4b82-9f38-3088ad86d67b",
   "metadata": {},
   "outputs": [],
   "source": [
    "#Removing whitespaces and lowercase breedname\n",
    "new_df['breedname'] = new_df['breedname'].str.strip().str.lower()"
   ]
  },
  {
   "cell_type": "code",
   "execution_count": null,
   "id": "a3f3119d-7f3c-4fb1-8ea5-6940bf24b4c6",
   "metadata": {},
   "outputs": [],
   "source": [
    "#Get API data \n",
    "new_df['breedgroup'] = new_df['breedname'].apply(dd.breed_groups)\n",
    "dd.get_breed_data()"
   ]
  },
  {
   "cell_type": "code",
   "execution_count": null,
   "id": "04796597-0fce-495a-a8aa-4de02237803c",
   "metadata": {},
   "outputs": [],
   "source": [
    "\n",
    "# Call the function to get breed list\n",
    "df_breeds = dd.get_breed_data()\n"
   ]
  },
  {
   "cell_type": "code",
   "execution_count": null,
   "id": "a8c72fa2-99c4-454a-a0c7-55e0186cfd74",
   "metadata": {},
   "outputs": [],
   "source": [
    "#Add characteristics columns\n",
    "df_breeds.columns = [col.replace(\" \",\"_\").lower() for col in df_breeds.columns]\n",
    "df_breeds.columns = [col.replace(\"_\",\"\").lower() for col in df_breeds.columns]\n",
    "result_characteristics = dd.count_characteristics(df_breeds)\n",
    "\n",
    "dd.add_columns(df_breeds, result_characteristics)\n",
    "\n",
    "\n",
    "\n",
    "#group breeds together\n",
    "df_breeds['breedgroup'] = df_breeds['breedname'].apply(dd.breed_groups)\n",
    "\n",
    "\n",
    "# Replace 'None' in the 'breedgroup' column with values from the 'breedname' column\n",
    "df_breeds.loc[df_breeds['breedgroup'].isna(), 'breedgroup'] = df_breeds['breedname']\n",
    "\n",
    "\n",
    "\n",
    "\n",
    "#drop duplicates of breedgroup names\n",
    "df_breeds = df_breeds.drop_duplicates(subset=[\"breedgroup\"])\n",
    "#df_breeds['breedgroup'].value_counts()\n",
    "\n"
   ]
  },
  {
   "cell_type": "code",
   "execution_count": null,
   "id": "206ccfbc-d79e-40f9-91ee-248f206b86cf",
   "metadata": {},
   "outputs": [],
   "source": [
    "#Merge data sources\n",
    "merged_df = pd.merge(new_df, df_breeds, on='breedgroup', how='left')\n",
    "merged_df.loc[merged_df['breedgroup'].isna(), 'breedgroup'] = merged_df['breedname_x']\n",
    "merged_df['breedgroup'].isnull().sum()\n",
    "\n",
    "merged_df.drop(columns=[\"breedname_y\"], inplace=True, errors='raise')\n",
    "\n",
    "merged_df = merged_df.rename(columns={'animalname': 'animal_name', \n",
    "                                      'animalgender': 'animal_gender', \n",
    "                                      'animalbirthyear': 'animal_birthyear', \n",
    "                                      'breedname_x': 'breed_name', \n",
    "                                      'namelength': 'name_length',\n",
    "                                      'breedgroup': 'breed_group',\n",
    "                                      'bredfor': 'bred_for'\n",
    "                                     })\n",
    "\n",
    "# Adding data for Chihuahua and Dachshund\n",
    "dog_data = {\n",
    "    'chihuahua': {\n",
    "        'breed_group': 'chihuahua',\n",
    "        'lifespan': '12-20 years',\n",
    "        'temperament': 'Devoted, Lively, Alert',\n",
    "        'weight': '1-6 pounds (0.5-2.7 kg)',\n",
    "        'height': '5-8 inches (13-20 cm)',\n",
    "        'bred_for': 'Companionship',\n",
    "        'origin': 'Mexico',\n",
    "        'intelligent': True,\n",
    "        'affectionate': True,\n",
    "        'alert': True,\n",
    "        'friendly': True,\n",
    "        'loyal': True\n",
    "    },\n",
    "    'dachshund': {\n",
    "        'breed_group': 'dachshund',\n",
    "        'lifespan': '12-16 years',\n",
    "        'temperament': 'Clever, Stubborn, Devoted',\n",
    "        'weight': '16-32 pounds (7-14.5 kg)',\n",
    "        'height': '8-9 inches (20-23 cm)',\n",
    "        'bred_for': 'Scent hound, hunting badgers',\n",
    "        'origin': 'Germany',\n",
    "        'intelligent': True,\n",
    "        'affectionate': True,\n",
    "        'alert': True,\n",
    "        'friendly': False,\n",
    "        'loyal': True\n",
    "    }\n",
    "}\n",
    "\n",
    "# Update the DataFrame\n",
    "for breed, data in dog_data.items():\n",
    "    # Check if the breed exists in the DataFrame\n",
    "    if breed in merged_df['breed_group'].values:\n",
    "        \n",
    "        for column, value in data.items():\n",
    "            merged_df.loc[merged_df['breed_group'] == breed, column] = value\n",
    "\n",
    "#capitalize names\n",
    "merged_df['animal_name']=merged_df['animal_name'].str.capitalize()\n",
    "\n",
    "#drop unused columns\n",
    "merged_df = merged_df.drop(['lifespan', 'temperament', 'height', 'bred_for', 'origin','zipcode'],axis=1)\n",
    "\n",
    "\n",
    "\n",
    "\n",
    "\n",
    "\n"
   ]
  },
  {
   "cell_type": "code",
   "execution_count": null,
   "id": "f354dda0-16f6-46d2-ac61-44079d04170d",
   "metadata": {},
   "outputs": [],
   "source": [
    "#Count gender distribution\n",
    "total_gender=merged_df['animal_gender'].value_counts()\n"
   ]
  },
  {
   "cell_type": "code",
   "execution_count": null,
   "id": "0f5c6e79-8f3c-41af-ba05-a219fa04ef2d",
   "metadata": {},
   "outputs": [],
   "source": [
    "\n",
    "#Total gender graph\n",
    "plt.figure(figsize=(6, 6))\n",
    "plt.pie(total_gender, labels=total_gender.index, autopct='%1.1f%%', colors=plt.cm.tab20.colors)\n",
    "plt.title('Total Dogs by gender')\n",
    "plt.show()"
   ]
  },
  {
   "cell_type": "code",
   "execution_count": null,
   "id": "3092b9e1-db31-49ab-8b97-81e325b38811",
   "metadata": {},
   "outputs": [],
   "source": [
    "#Remove unknown from breedgroups\n",
    "merged_df=merged_df[~merged_df['breed_group'].isin(['unknown'])]"
   ]
  },
  {
   "cell_type": "code",
   "execution_count": null,
   "id": "f222100d-7319-434c-898e-37d3fa9b2fa1",
   "metadata": {},
   "outputs": [],
   "source": [
    "#Find top 10 of breeds\n",
    "top_10_breeds = merged_df['breed_group'].value_counts().nlargest(10)\n",
    "\n",
    "\n",
    "plt.figure(figsize=(10,6))\n",
    "top_10_breeds.plot(kind='bar', color='skyblue')\n",
    "\n",
    "\n",
    "plt.title('Top 10 Dog Breeds', fontsize=16)\n",
    "plt.xlabel('Breed', fontsize=12)\n",
    "plt.ylabel('Count', fontsize=12)\n",
    "plt.xticks(rotation=45)\n",
    "plt.tight_layout()\n",
    "\n",
    "\n",
    "plt.show()"
   ]
  },
  {
   "cell_type": "code",
   "execution_count": null,
   "id": "f11a85af-6923-4c91-a656-14b3910789b7",
   "metadata": {},
   "outputs": [],
   "source": [
    "#gender of the top 5 breeds\n",
    "top_5_breeds= merged_df['breed_group'].value_counts().nlargest(5).index\n",
    "\n",
    "# Step 2: Filter the data to include only the top 5 breeds\n",
    "top_5_breeds_df = merged_df[merged_df['breed_group'].isin(top_5_breeds)]\n",
    "\n",
    "\n",
    "breed_gender_counts=top_5_breeds_df.groupby(['breed_group','animal_gender']).size().reset_index(name='Count')\n",
    "\n",
    "plt.figure(figsize=(10,6))\n",
    "sns.barplot(x='breed_group', y='Count', hue='animal_gender', data=breed_gender_counts, palette='Set2')\n",
    "\n",
    "# Customize the plot\n",
    "plt.title('Gender Distribution in Top 5 Dog Breeds', fontsize=16)\n",
    "plt.xlabel('Breed', fontsize=12)\n",
    "plt.ylabel('Count', fontsize=12)\n",
    "plt.xticks(rotation=45)\n",
    "plt.tight_layout()\n",
    "\n",
    "# Show the plot\n",
    "plt.show()"
   ]
  },
  {
   "cell_type": "code",
   "execution_count": null,
   "id": "180a2015-3ce9-48f9-9eb4-dcd310ebae0f",
   "metadata": {},
   "outputs": [],
   "source": [
    "# names we don't want\n",
    "unwanted_names = [\"Unknow\",\"Name\",\"A\",\".\",\"Q\",\"M\",\"B\"]\n",
    "\n",
    "# Filter out rows where 'animal_name' is in the unwanted list\n",
    "merged_df=merged_df[~merged_df['animal_name'].isin(unwanted_names)]\n",
    "\n",
    "merged_df =merged_df.dropna(subset=['animal_name'])"
   ]
  },
  {
   "cell_type": "code",
   "execution_count": null,
   "id": "baea1752-e4b8-44b2-9da7-5144a7581c2f",
   "metadata": {},
   "outputs": [],
   "source": [
    "#Count occurrences of each dog name within each breed\n",
    "breed_name_counts = merged_df.groupby(['breed_group', 'animal_name']).size().reset_index(name='Count')\n",
    "\n",
    "#Identify the top 5 breeds by the total number of dogs\n",
    "top_5_breeds = breed_name_counts.groupby('breed_group')['Count'].sum().nlargest(5).index\n",
    "\n",
    "\n",
    "# Filter for only those breeds that are in the top 5\n",
    "top_5_breed_data = breed_name_counts[breed_name_counts['breed_group'].isin(top_5_breeds)]\n",
    "\n",
    "\n",
    "# For each breed, get the top 3 names based on the count\n",
    "top_3_names_per_breed = top_5_breed_data.groupby('breed_group').apply(\n",
    "    lambda x: x.nlargest(3, 'Count')\n",
    ").reset_index(drop=True)\n",
    "\n",
    "\n",
    "#This line creates a pivot table from the filtered data (top 3 names of top 5 breeds).\n",
    "stacked_data = top_3_names_per_breed.pivot(index='breed_group', columns='animal_name', values='Count').fillna(0)\n",
    "\n",
    "\n",
    "#Plotting\n",
    "plt.figure(figsize=(14, 10))\n",
    "ax = stacked_data.plot(kind='barh', stacked=True, color=sns.color_palette('Set2'))\n",
    "\n",
    "\n",
    "#Annotate the dog names on each color of each bar\n",
    "for i, (index, row) in enumerate(stacked_data.iterrows()):\n",
    "    cumulative_height = 0\n",
    "    for name, count in row.items():\n",
    "        if count > 0:  # Only annotate bars with a positive count\n",
    "            ax.text(cumulative_height + count / 2, i, name, \n",
    "                    ha='center', va='center', color='white', fontsize=10)\n",
    "            cumulative_height += count\n",
    "\n",
    "\n",
    "plt.title('Top 3 Dog Names for the Top 5 Dog Breeds ', fontsize=18, weight='bold')\n",
    "plt.xlabel('Count', fontsize=12)\n",
    "plt.ylabel('Dog Breeds', fontsize=12)\n",
    "plt.legend(title='Dog Names')\n",
    "plt.tight_layout()\n",
    "plt.show()"
   ]
  },
  {
   "cell_type": "code",
   "execution_count": null,
   "id": "071afa59-3911-4f51-95bc-aff497868851",
   "metadata": {},
   "outputs": [],
   "source": [
    "#Calculate average name lenght\n",
    "breed_name_length_avg = merged_df.groupby('breed_group')['name_length'].mean().reset_index()\n",
    "\n"
   ]
  },
  {
   "cell_type": "code",
   "execution_count": null,
   "id": "6142acd2-e3a2-4e32-8177-7fac093cce25",
   "metadata": {},
   "outputs": [],
   "source": [
    "#top 10 of names\n",
    "top_10_names = merged_df['animal_name'].value_counts().nlargest(10)\n",
    "\n",
    "\n",
    "plt.figure(figsize=(10,6))\n",
    "top_10_names.plot(kind='bar', color='skyblue')\n",
    "\n",
    "\n",
    "plt.title('Top 10 Dog Names', fontsize=16)\n",
    "plt.xlabel('Name', fontsize=12)\n",
    "plt.ylabel('Count', fontsize=12)\n",
    "plt.xticks(rotation=45)\n",
    "plt.tight_layout()\n",
    "\n",
    "\n",
    "plt.show()"
   ]
  },
  {
   "cell_type": "code",
   "execution_count": null,
   "id": "63293502-9ef3-4cb2-bb94-a87681ded6d7",
   "metadata": {},
   "outputs": [],
   "source": [
    "#top 10 of names\n",
    "top_10_name_length = merged_df['name_length'].value_counts().nlargest(10)\n",
    "\n",
    "\n",
    "plt.figure(figsize=(10,6))\n",
    "top_10_name_length.plot(kind='bar', color='skyblue')\n",
    "\n",
    "\n",
    "plt.title('Top 10 Dog name length', fontsize=16)\n",
    "plt.xlabel('Name', fontsize=12)\n",
    "plt.ylabel('Count', fontsize=12)\n",
    "plt.xticks(rotation=45)\n",
    "plt.tight_layout()\n",
    "\n",
    "\n",
    "plt.show()"
   ]
  },
  {
   "cell_type": "code",
   "execution_count": null,
   "id": "7456a3c8-578b-4e7f-a5a8-17dbd2206005",
   "metadata": {},
   "outputs": [],
   "source": [
    "#Analyse personality traits\n",
    "\n",
    "new_merged_df = merged_df[[\"animal_name\", \"intelligent\", \"affectionate\", \"alert\", \"friendly\", \"loyal\"]]\n",
    "#Drop empty values\n",
    "cleaned_df = new_merged_df.dropna(subset=['intelligent', 'affectionate', 'alert', 'friendly', 'loyal'], how='all')"
   ]
  },
  {
   "cell_type": "code",
   "execution_count": null,
   "id": "44d34b05-c6a4-4821-b38f-4f5a9c917a36",
   "metadata": {},
   "outputs": [],
   "source": [
    "#Combine popular names with traits\n",
    "top_names = cleaned_df['animal_name'].value_counts().head(10)\n",
    "df_popular_names = cleaned_df[cleaned_df['animal_name'].isin(top_names.index)]\n",
    "df_popular_names.groupby('animal_name').sum()"
   ]
  },
  {
   "cell_type": "code",
   "execution_count": null,
   "id": "ce1ed74d-89e1-4625-a7a3-84bff1b7b9b4",
   "metadata": {},
   "outputs": [],
   "source": [
    "#Create the graphs\n",
    "plt.figure(figsize=(10, 6))\n",
    "sns.barplot(x='animal_name', y='intelligent', data=df_popular_names)\n",
    "plt.title('Intelligent Trait by Dog Name')\n",
    "plt.show()"
   ]
  },
  {
   "cell_type": "code",
   "execution_count": null,
   "id": "eecd619b-2cd8-4dee-be14-7a87127b4258",
   "metadata": {},
   "outputs": [],
   "source": [
    "plt.figure(figsize=(10, 6))\n",
    "sns.barplot(x='animal_name', y='friendly', data=df_popular_names)\n",
    "plt.title('Friendly Trait by Dog Name')\n",
    "plt.show()"
   ]
  },
  {
   "cell_type": "code",
   "execution_count": null,
   "id": "eb865c8f-5216-46f6-8be9-3d2b34d17db3",
   "metadata": {},
   "outputs": [],
   "source": [
    "plt.figure(figsize=(10, 6))\n",
    "sns.barplot(x='animal_name', y='loyal', data=df_popular_names)\n",
    "plt.title('Loyal Trait by Dog Name')\n",
    "plt.show()"
   ]
  },
  {
   "cell_type": "code",
   "execution_count": null,
   "id": "fa1023e0-1099-41c4-81e7-7e31ba2d30b6",
   "metadata": {},
   "outputs": [],
   "source": [
    "name_traits = df_popular_names.groupby('animal_name').mean()\n",
    "\n",
    "# Plot each trait on top of the other\n",
    "name_traits.plot(kind='bar', stacked=True, figsize=(12, 8))\n",
    "plt.title('Distribution of Traits by Dog Name')\n",
    "plt.xticks(rotation=45)\n",
    "plt.show()"
   ]
  },
  {
   "cell_type": "code",
   "execution_count": null,
   "id": "4bb28463-f62d-4d5e-b815-1f63b5133b16",
   "metadata": {},
   "outputs": [],
   "source": [
    "name_traits = df_popular_names.groupby('animal_name').mean()\n",
    "\n",
    "# Get the color palette from Seaborn\n",
    "colors = sns.color_palette('Set2')\n",
    "\n",
    "# Plot each trait on top of the other using a stacked bar chart\n",
    "plt.figure(figsize=(12, 8))\n",
    "name_traits.plot(kind='bar', stacked=True, figsize=(12, 8), color=colors)\n",
    "\n",
    "# Add title and rotate x-axis labels for better readability\n",
    "plt.title('Distribution of Traits by Dog Name')\n",
    "plt.xticks(rotation=45)\n",
    "plt.tight_layout()  # Adjust layout to fit everything\n",
    "plt.show()"
   ]
  },
  {
   "cell_type": "code",
   "execution_count": null,
   "id": "46c8799b-5563-47de-8322-e1ed9bf73b97",
   "metadata": {},
   "outputs": [],
   "source": [
    "# Pivot the data to focus on traits\n",
    "df_melted = df_popular_names.melt(id_vars='animal_name', var_name='trait', value_name='presence')\n",
    "\n",
    "# Filter for rows where the trait is present (presence == 1)\n",
    "df_melted = df_melted[df_melted['presence'] == 1]\n",
    "\n",
    "# Group by traits and count names per trait\n",
    "name_per_trait = df_melted.groupby(['trait', 'animal_name']).size().unstack(fill_value=0)\n",
    "\n",
    "# Plot stacked bar chart with traits as bars\n",
    "name_per_trait.plot(kind='bar', stacked=True, figsize=(12, 8))\n",
    "plt.title('Most Popular Dog Names per Personality Trait')\n",
    "plt.xlabel('Personality Trait')\n",
    "plt.ylabel('Count of Names')\n",
    "plt.xticks(rotation=45)\n",
    "plt.legend(title=\"Dog Name\", bbox_to_anchor=(1.05, 1), loc='upper left')  # Move legend outside the plot\n",
    "plt.tight_layout()\n",
    "plt.show()"
   ]
  },
  {
   "cell_type": "code",
   "execution_count": null,
   "id": "124679e8-2969-49be-84a0-cb2993a0d176",
   "metadata": {},
   "outputs": [],
   "source": [
    "\n",
    "# Traits per dog name\n",
    "dd.plot_radar(df_popular_names,'Bella')\n",
    "dd.plot_radar(df_popular_names,'Charlie')"
   ]
  },
  {
   "cell_type": "code",
   "execution_count": null,
   "id": "07ed40fc-8684-4778-b528-22ec86155333",
   "metadata": {
    "scrolled": true
   },
   "outputs": [],
   "source": [
    "\n",
    "top_names = [\"Bella\", \"Max\", \"Charlie\", \"Luna\", \"Coco\"] \n",
    "dd.popularity_overtime(merged_df)"
   ]
  },
  {
   "cell_type": "code",
   "execution_count": null,
   "id": "67b2ecec-5737-48d4-ba8d-12aef1d435ae",
   "metadata": {
    "scrolled": true
   },
   "outputs": [],
   "source": [
    "#remove invalid birth years \n",
    "merged_df['animal_birthyear'] = pd.to_numeric(merged_df['animal_birthyear'], errors='coerce')\n",
    "#create a copy with valid birth years\n",
    "only_with_birthyear_df = merged_df.dropna(subset=['animal_birthyear'])\n",
    "only_with_birthyear_df['animal_birthyear'] = pd.to_numeric(only_with_birthyear_df['animal_birthyear'].astype(int), errors='coerce')\n",
    "\n",
    "\n",
    "dd.top_increased_popularity(only_with_birthyear_df)"
   ]
  },
  {
   "cell_type": "code",
   "execution_count": null,
   "id": "6dcd04cb-244a-44dd-8120-1e55130c083a",
   "metadata": {},
   "outputs": [],
   "source": [
    "dd.gender_natural_names(merged_df)"
   ]
  },
  {
   "cell_type": "code",
   "execution_count": null,
   "id": "ff41684a-0302-481b-8094-c33534326dc2",
   "metadata": {},
   "outputs": [],
   "source": [
    "dd.name_vs_weight(merged_df)"
   ]
  }
 ],
 "metadata": {
  "kernelspec": {
   "display_name": "Python 3 (ipykernel)",
   "language": "python",
   "name": "python3"
  },
  "language_info": {
   "codemirror_mode": {
    "name": "ipython",
    "version": 3
   },
   "file_extension": ".py",
   "mimetype": "text/x-python",
   "name": "python",
   "nbconvert_exporter": "python",
   "pygments_lexer": "ipython3",
   "version": "3.11.7"
  }
 },
 "nbformat": 4,
 "nbformat_minor": 5
}
